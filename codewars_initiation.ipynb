{
 "cells": [
  {
   "cell_type": "code",
   "execution_count": 39,
   "id": "70d521f8",
   "metadata": {},
   "outputs": [],
   "source": [
    "# This code does not execute properly. Try to figure out why."
   ]
  },
  {
   "cell_type": "code",
   "execution_count": 40,
   "id": "3bb9ea7e",
   "metadata": {},
   "outputs": [],
   "source": [
    "def multiply(a, b):\n",
    "    a * b"
   ]
  },
  {
   "cell_type": "code",
   "execution_count": null,
   "id": "5208bb4a",
   "metadata": {},
   "outputs": [],
   "source": [
    "#My Answer:"
   ]
  },
  {
   "cell_type": "code",
   "execution_count": 37,
   "id": "bceb859f",
   "metadata": {},
   "outputs": [],
   "source": [
    "def mult(a,b):\n",
    "    \n",
    "    x = a * b\n",
    "    \n",
    "    return (x)"
   ]
  },
  {
   "cell_type": "code",
   "execution_count": 38,
   "id": "7d54d495",
   "metadata": {},
   "outputs": [
    {
     "data": {
      "text/plain": [
       "4"
      ]
     },
     "execution_count": 38,
     "metadata": {},
     "output_type": "execute_result"
    }
   ],
   "source": [
    "mult(2,2)"
   ]
  },
  {
   "cell_type": "code",
   "execution_count": null,
   "id": "438e0839",
   "metadata": {},
   "outputs": [],
   "source": [
    "# Took me ages fiddling around trying to convert to int, when all that was really missing except the call and return, \n",
    "#  was a variable to hold a*b! (called 'x' in this case)"
   ]
  },
  {
   "cell_type": "code",
   "execution_count": null,
   "id": "b2988c2f",
   "metadata": {},
   "outputs": [],
   "source": []
  }
 ],
 "metadata": {
  "kernelspec": {
   "display_name": "Python 3 (ipykernel)",
   "language": "python",
   "name": "python3"
  },
  "language_info": {
   "codemirror_mode": {
    "name": "ipython",
    "version": 3
   },
   "file_extension": ".py",
   "mimetype": "text/x-python",
   "name": "python",
   "nbconvert_exporter": "python",
   "pygments_lexer": "ipython3",
   "version": "3.9.7"
  }
 },
 "nbformat": 4,
 "nbformat_minor": 5
}
