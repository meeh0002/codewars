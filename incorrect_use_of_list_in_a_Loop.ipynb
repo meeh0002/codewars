{
 "cells": [
  {
   "cell_type": "code",
   "execution_count": null,
   "id": "53767704",
   "metadata": {},
   "outputs": [],
   "source": [
    "#'VEXING VANISHING VALUES'"
   ]
  },
  {
   "cell_type": "code",
   "execution_count": null,
   "id": "88c9a800",
   "metadata": {},
   "outputs": [],
   "source": [
    "# Confusion, perplexity, a mild headache. These are just a sample of the things you have experienced in the last few minutes \n",
    "# while trying to figure out what is going on in your code.\n",
    "\n",
    "# The task is very simple: accept a list of values, and another value n, then return a new list with every value multiplied by n.\n",
    "# For example, [1, 2, 3] and 4 should result in [4, 8, 12].\n",
    "\n",
    "#While writing the function, you even added some debugging lines to make sure that you didn't mess anything up, \n",
    "#and everything looked good! But for some reason when you run the function it always seems to return an empty list, \n",
    "#even though you can clearly see, that the list should have the right values in it! Somehow, the values are simply disappearing!\n",
    "#Is this a bug in the programming language itself...?"
   ]
  },
  {
   "cell_type": "code",
   "execution_count": null,
   "id": "9807e876",
   "metadata": {},
   "outputs": [],
   "source": [
    "#So, the wrong code they give you (that needs correcting) seems to malfunction due to the list being overwritten with each\n",
    "# pass of the loop.\n",
    "\n",
    "#The dud code:"
   ]
  },
  {
   "cell_type": "code",
   "execution_count": 48,
   "id": "c85a7f8f",
   "metadata": {},
   "outputs": [],
   "source": [
    "def mul_by_n(lst, n):\n",
    "    print(\"Inputs: \", lst, n) # Check our inputs\n",
    "    result = (x * n for x in lst)\n",
    "    print(\"Result: \", list(result)) # Check our result\n",
    "    return list(result)"
   ]
  },
  {
   "cell_type": "code",
   "execution_count": 49,
   "id": "76241fab",
   "metadata": {},
   "outputs": [
    {
     "name": "stdout",
     "output_type": "stream",
     "text": [
      "Inputs:  [1, 2, 3] 4\n",
      "Result:  [4, 8, 12]\n"
     ]
    },
    {
     "data": {
      "text/plain": [
       "[]"
      ]
     },
     "execution_count": 49,
     "metadata": {},
     "output_type": "execute_result"
    }
   ],
   "source": [
    "mul_by_n([1, 2, 3], 4)"
   ]
  },
  {
   "cell_type": "code",
   "execution_count": null,
   "id": "858db20c",
   "metadata": {},
   "outputs": [],
   "source": [
    "# the dud code returns an empty list (see the [] returned when you call the function)"
   ]
  },
  {
   "cell_type": "code",
   "execution_count": null,
   "id": "42dff3b6",
   "metadata": {},
   "outputs": [],
   "source": [
    "# after googling, the advice that came back was that it was to do with the list being overwritten each time.\n",
    "\n",
    "# So I've done what I knew (which at this point in my learning - isn't very much) and wrote out the for loop in the \n",
    "# traditional verbose way rather than the one line list-comprehension style of the dud. \n",
    "\n",
    "# In my answer I .append rather than do a result = each time, and it seems to work ok:"
   ]
  },
  {
   "cell_type": "code",
   "execution_count": 50,
   "id": "41b39855",
   "metadata": {},
   "outputs": [],
   "source": [
    "def mul_by_n(lst, n):\n",
    "    print(\"Inputs: \", lst, n) # Check our inputs\n",
    "    result = []\n",
    "    for x in lst:\n",
    "        result.append(x * n)\n",
    "    print(\"Result: \", list(result)) # Check our result\n",
    "    return list(result)"
   ]
  },
  {
   "cell_type": "code",
   "execution_count": 51,
   "id": "f715f52b",
   "metadata": {},
   "outputs": [
    {
     "name": "stdout",
     "output_type": "stream",
     "text": [
      "Inputs:  [1, 2, 3] 4\n",
      "Result:  [4, 8, 12]\n"
     ]
    },
    {
     "data": {
      "text/plain": [
       "[4, 8, 12]"
      ]
     },
     "execution_count": 51,
     "metadata": {},
     "output_type": "execute_result"
    }
   ],
   "source": [
    "mul_by_n([1, 2, 3], 4)"
   ]
  },
  {
   "cell_type": "code",
   "execution_count": 53,
   "id": "3760fc81",
   "metadata": {},
   "outputs": [],
   "source": [
    "#so - the easiest way was simply to use square brackets to solve the problem such as:"
   ]
  },
  {
   "cell_type": "code",
   "execution_count": 55,
   "id": "adb9e36c",
   "metadata": {},
   "outputs": [],
   "source": [
    "def mul_by_n(lst, n):\n",
    "    print(\"Inputs: \", lst, n) # Check our inputs\n",
    "    result = [ x * n for x in lst ]\n",
    "    print(\"Result: \", result) # Check our result\n",
    "    return result                                    #This one get's a lot of 'best practices' upvotes on Codewars"
   ]
  },
  {
   "cell_type": "code",
   "execution_count": 61,
   "id": "8a404664",
   "metadata": {},
   "outputs": [
    {
     "data": {
      "text/plain": [
       "[4, 8, 12]"
      ]
     },
     "execution_count": 61,
     "metadata": {},
     "output_type": "execute_result"
    }
   ],
   "source": [
    "mul_by_n([1, 2, 3], 4)"
   ]
  },
  {
   "cell_type": "code",
   "execution_count": 62,
   "id": "8dea28b7",
   "metadata": {},
   "outputs": [],
   "source": [
    "#Or a shorter way:"
   ]
  },
  {
   "cell_type": "code",
   "execution_count": 64,
   "id": "4bdf0d5b",
   "metadata": {},
   "outputs": [],
   "source": [
    "def mul_by_n(lst, n):                       #I actually like this way best\n",
    "    return [i * n for i in lst]             #it gets lot of 'clever' upvotes on Codewars"
   ]
  },
  {
   "cell_type": "code",
   "execution_count": 66,
   "id": "685b7e08",
   "metadata": {},
   "outputs": [
    {
     "data": {
      "text/plain": [
       "[4, 8, 12]"
      ]
     },
     "execution_count": 66,
     "metadata": {},
     "output_type": "execute_result"
    }
   ],
   "source": [
    "mul_by_n([1, 2, 3], 4)                   "
   ]
  }
 ],
 "metadata": {
  "kernelspec": {
   "display_name": "Python 3 (ipykernel)",
   "language": "python",
   "name": "python3"
  },
  "language_info": {
   "codemirror_mode": {
    "name": "ipython",
    "version": 3
   },
   "file_extension": ".py",
   "mimetype": "text/x-python",
   "name": "python",
   "nbconvert_exporter": "python",
   "pygments_lexer": "ipython3",
   "version": "3.9.7"
  }
 },
 "nbformat": 4,
 "nbformat_minor": 5
}
