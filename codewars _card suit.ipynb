{
 "cells": [
  {
   "cell_type": "code",
   "execution_count": null,
   "id": "eab0c9e5",
   "metadata": {},
   "outputs": [],
   "source": [
    "You get any card as an argument. Your task is to return the suit of this card (in lowercase).\n",
    "\n",
    "Our deck (is preloaded):\n",
    "    \n",
    "DECK = ['2S','3S','4S','5S','6S','7S','8S','9S','10S','JS','QS','KS','AS',\n",
    "        '2D','3D','4D','5D','6D','7D','8D','9D','10D','JD','QD','KD','AD',\n",
    "        '2H','3H','4H','5H','6H','7H','8H','9H','10H','JH','QH','KH','AH',\n",
    "        '2C','3C','4C','5C','6C','7C','8C','9C','10C','JC','QC','KC','AC']"
   ]
  },
  {
   "cell_type": "code",
   "execution_count": 18,
   "id": "0d79f48c",
   "metadata": {},
   "outputs": [],
   "source": [
    "def define_suit(card):\n",
    "    # Good luck\n",
    "    if card[-1] == 'D':\n",
    "        return 'diamonds'\n",
    "    elif card[-1] == 'S':\n",
    "        return 'spades'\n",
    "    elif card[-1] == 'H':\n",
    "        return 'hearts'\n",
    "    else:\n",
    "        return 'clubs'\n",
    "        "
   ]
  },
  {
   "cell_type": "code",
   "execution_count": 19,
   "id": "6d10554b",
   "metadata": {},
   "outputs": [
    {
     "data": {
      "text/plain": [
       "'clubs'"
      ]
     },
     "execution_count": 19,
     "metadata": {},
     "output_type": "execute_result"
    }
   ],
   "source": [
    "define_suit('10C')"
   ]
  },
  {
   "cell_type": "code",
   "execution_count": 20,
   "id": "9ebd01f7",
   "metadata": {},
   "outputs": [],
   "source": [
    "# Mine is correct, but here's how it should be done !!"
   ]
  },
  {
   "cell_type": "code",
   "execution_count": 21,
   "id": "790e0150",
   "metadata": {},
   "outputs": [],
   "source": [
    "def define_suit(card):\n",
    "    d = {'C': 'clubs', 'S':'spades', 'D':'diamonds','H':'hearts'}\n",
    "    return d[card[-1]]"
   ]
  },
  {
   "cell_type": "code",
   "execution_count": null,
   "id": "ee58872e",
   "metadata": {},
   "outputs": [],
   "source": []
  }
 ],
 "metadata": {
  "kernelspec": {
   "display_name": "Python 3 (ipykernel)",
   "language": "python",
   "name": "python3"
  },
  "language_info": {
   "codemirror_mode": {
    "name": "ipython",
    "version": 3
   },
   "file_extension": ".py",
   "mimetype": "text/x-python",
   "name": "python",
   "nbconvert_exporter": "python",
   "pygments_lexer": "ipython3",
   "version": "3.9.7"
  }
 },
 "nbformat": 4,
 "nbformat_minor": 5
}
