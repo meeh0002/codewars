{
 "cells": [
  {
   "cell_type": "code",
   "execution_count": null,
   "id": "9243c2f1",
   "metadata": {},
   "outputs": [],
   "source": [
    "##### WARNING !!!!!!!! - FOR BEST SOLUTION, SKIM TO BOTTOM CELL  !!!!!!!!!!!!!!"
   ]
  },
  {
   "cell_type": "code",
   "execution_count": null,
   "id": "aafc9fad",
   "metadata": {},
   "outputs": [],
   "source": [
    "###CODEWARS - KYU 6TH LEVEL QUESTION - PANGRAMS   - GOOD EXAMPLE OF NESTED FOR-LOOPS "
   ]
  },
  {
   "cell_type": "code",
   "execution_count": null,
   "id": "570ac895",
   "metadata": {},
   "outputs": [],
   "source": [
    "# A pangram is a sentence that contains every single letter of the alphabet at least once. \n",
    "#For example, the sentence \"The quick brown fox jumps over the lazy dog\" is a pangram, \n",
    "#because it uses the letters A-Z at least once (case is irrelevant).\n",
    "#Given a string, detect whether or not it is a pangram. Return True if it is, False if not. Ignore numbers and punctuation."
   ]
  },
  {
   "cell_type": "code",
   "execution_count": 33,
   "id": "ee381730",
   "metadata": {},
   "outputs": [],
   "source": [
    "def is_pangram(s):\n",
    "    s = s.lower()\n",
    "    alphabet = ['abcdefghijklmnopqrstuvwxyz']\n",
    "    \n",
    "    for letter in alphabet:\n",
    "        if letter not in s:\n",
    "            return False\n",
    "    return True"
   ]
  },
  {
   "cell_type": "code",
   "execution_count": 35,
   "id": "3082a39c",
   "metadata": {},
   "outputs": [
    {
     "data": {
      "text/plain": [
       "False"
      ]
     },
     "execution_count": 35,
     "metadata": {},
     "output_type": "execute_result"
    }
   ],
   "source": [
    "is_pangram(\"Remember you're a Womble\")"
   ]
  },
  {
   "cell_type": "code",
   "execution_count": 37,
   "id": "77d9ff11",
   "metadata": {},
   "outputs": [
    {
     "data": {
      "text/plain": [
       "False"
      ]
     },
     "execution_count": 37,
     "metadata": {},
     "output_type": "execute_result"
    }
   ],
   "source": [
    "is_pangram('The quick brown fox jumps over the lazy dog')  "
   ]
  },
  {
   "cell_type": "code",
   "execution_count": 40,
   "id": "70a2265f",
   "metadata": {},
   "outputs": [
    {
     "data": {
      "text/plain": [
       "True"
      ]
     },
     "execution_count": 40,
     "metadata": {},
     "output_type": "execute_result"
    }
   ],
   "source": [
    "is_pangram(\"abcdefghijklmnopqrstuvwxyz\")"
   ]
  },
  {
   "cell_type": "code",
   "execution_count": 52,
   "id": "1507f2f6",
   "metadata": {},
   "outputs": [],
   "source": [
    "### I had to get a bit of help re-factoring to the above, it can be confusing in tis double for loop, which variables to\n",
    "### compare at which point, so I will add the above to the How_to_&_Examples section as a for loop example\n",
    "\n",
    "### to be honest - it fails on a proper sentence with gaps inbetween words, so I don't know why the above passed the codewars\n",
    "### tests anyway... mystery!\n",
    "\n",
    "# My original code was the below, which worked perfectly but it's not the type of code you'd want anyone to see!"
   ]
  },
  {
   "cell_type": "code",
   "execution_count": 21,
   "id": "1fe3603f",
   "metadata": {},
   "outputs": [],
   "source": [
    "def is_pangram_old(s):\n",
    "    s = s.lower()\n",
    "    if \"a\" in s and \"b\" in s and \"c\" in s and \"d\" in s and \"e\" in s and \"f\" in s and \"g\" in s and \"h\" in s and \"i\" in s and \"j\" in s and \"k\" in s and \"l\" in s and \"m\" in s and \"n\" in s and \"o\" in s and \"p\" in s and \"q\" in s and \"r\" in s and \"s\" in s and \"t\" in s and \"u\" in s and \"v\" in s and \"w\" in s and \"x\" in s and \"y\" in s and \"z\" in s:\n",
    "        return True\n",
    "    return False"
   ]
  },
  {
   "cell_type": "code",
   "execution_count": 23,
   "id": "609029ad",
   "metadata": {},
   "outputs": [
    {
     "data": {
      "text/plain": [
       "False"
      ]
     },
     "execution_count": 23,
     "metadata": {},
     "output_type": "execute_result"
    }
   ],
   "source": [
    "is_pangram_old('Chairman Meow says meow')"
   ]
  },
  {
   "cell_type": "code",
   "execution_count": 42,
   "id": "9186b182",
   "metadata": {},
   "outputs": [
    {
     "data": {
      "text/plain": [
       "True"
      ]
     },
     "execution_count": 42,
     "metadata": {},
     "output_type": "execute_result"
    }
   ],
   "source": [
    "is_pangram_old('The quick brown fox jumps over the lazy dog')"
   ]
  },
  {
   "cell_type": "code",
   "execution_count": null,
   "id": "2305ef20",
   "metadata": {},
   "outputs": [],
   "source": []
  },
  {
   "cell_type": "code",
   "execution_count": 43,
   "id": "1a302d1a",
   "metadata": {},
   "outputs": [],
   "source": [
    "#Looks like the quickest way of writing it was the below:"
   ]
  },
  {
   "cell_type": "code",
   "execution_count": 45,
   "id": "3e744ab4",
   "metadata": {},
   "outputs": [],
   "source": [
    "def is_pangram_best(s):\n",
    "    s = s.lower()\n",
    "    for char in 'abcdefghijklmnopqrstuvwxyz':\n",
    "        if char not in s:\n",
    "            return False\n",
    "    return True"
   ]
  },
  {
   "cell_type": "code",
   "execution_count": 48,
   "id": "b9f3c144",
   "metadata": {},
   "outputs": [
    {
     "data": {
      "text/plain": [
       "False"
      ]
     },
     "execution_count": 48,
     "metadata": {},
     "output_type": "execute_result"
    }
   ],
   "source": [
    "is_pangram_best('Chairman Meow says meow')"
   ]
  },
  {
   "cell_type": "code",
   "execution_count": 49,
   "id": "21254931",
   "metadata": {},
   "outputs": [
    {
     "data": {
      "text/plain": [
       "True"
      ]
     },
     "execution_count": 49,
     "metadata": {},
     "output_type": "execute_result"
    }
   ],
   "source": [
    "is_pangram_best('The quick brown fox jumps over the lazy dog')   #THIS ONE ACTUALLY WORKS!!!!!"
   ]
  }
 ],
 "metadata": {
  "kernelspec": {
   "display_name": "Python 3 (ipykernel)",
   "language": "python",
   "name": "python3"
  },
  "language_info": {
   "codemirror_mode": {
    "name": "ipython",
    "version": 3
   },
   "file_extension": ".py",
   "mimetype": "text/x-python",
   "name": "python",
   "nbconvert_exporter": "python",
   "pygments_lexer": "ipython3",
   "version": "3.9.7"
  }
 },
 "nbformat": 4,
 "nbformat_minor": 5
}
