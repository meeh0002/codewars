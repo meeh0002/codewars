{
 "cells": [
  {
   "cell_type": "code",
   "execution_count": null,
   "id": "5342f6b3",
   "metadata": {},
   "outputs": [],
   "source": [
    "#Trolls are attacking your comment section!\n",
    "\n",
    "#A common way to deal with this situation is to remove all of the vowels from the trolls' comments, neutralizing the threat.\n",
    "\n",
    "#Your task is to write a function that takes a string and return a new string with all vowels removed.\n",
    "\n",
    "#For example, the string \"This website is for losers LOL!\" would become \"Ths wbst s fr lsrs LL!\".\n",
    "\n",
    "#Note: for this kata y isn't considered a vowel."
   ]
  },
  {
   "cell_type": "code",
   "execution_count": 66,
   "id": "5428eb9c",
   "metadata": {},
   "outputs": [
    {
     "data": {
      "text/plain": [
       "'ft bggr cnt fckr'"
      ]
     },
     "execution_count": 66,
     "metadata": {},
     "output_type": "execute_result"
    }
   ],
   "source": [
    "def disemvowel(string_):\n",
    "\n",
    "    string = string_.lower()\n",
    "    clean = \"\"\n",
    "    \n",
    "    for l in string:\n",
    "        if l in \"aeiou\":\n",
    "            clean = clean + str(\"\")\n",
    "        else:\n",
    "            clean = clean + str(l)   #seems currently it is appending but rather than doing it once, as required, ie per letter\n",
    "                                         #in string, it's doing it for every vowel in vowel. so maybe need to append 'r' at a higher level\n",
    "                \n",
    "    return clean\n",
    "\n",
    "disemvowel('faT begGer Cint fOckER')          # it actually does the trick for one instance (1 of 5) of the vowels"
   ]
  },
  {
   "cell_type": "code",
   "execution_count": 62,
   "id": "76a72f16",
   "metadata": {},
   "outputs": [],
   "source": [
    "#clean version below, didn't need the str conversions, and also the following brackets. they were there because I was trying'\n",
    "#to use append before, which I think only works for lists, which I was using before.\n",
    "\n",
    "# also removed the lower conversion, because it just ends up being cleaner hard coding aeiouAEIOU"
   ]
  },
  {
   "cell_type": "code",
   "execution_count": 65,
   "id": "2555c5fa",
   "metadata": {},
   "outputs": [
    {
     "data": {
      "text/plain": [
       "'FT bgGr Cnt fckR'"
      ]
     },
     "execution_count": 65,
     "metadata": {},
     "output_type": "execute_result"
    }
   ],
   "source": [
    "def disemvowel(string_):\n",
    "\n",
    "    clean = \"\"\n",
    "    \n",
    "    for l in string_:\n",
    "        if l in \"aeiouAEIOU\":\n",
    "            clean = clean + \"\"\n",
    "        else:\n",
    "            clean = clean + l\n",
    "                \n",
    "    return clean\n",
    "\n",
    "disemvowel('FaT begGer Cant fockER')"
   ]
  },
  {
   "cell_type": "code",
   "execution_count": null,
   "id": "425491bd",
   "metadata": {},
   "outputs": [],
   "source": []
  }
 ],
 "metadata": {
  "kernelspec": {
   "display_name": "Python 3 (ipykernel)",
   "language": "python",
   "name": "python3"
  },
  "language_info": {
   "codemirror_mode": {
    "name": "ipython",
    "version": 3
   },
   "file_extension": ".py",
   "mimetype": "text/x-python",
   "name": "python",
   "nbconvert_exporter": "python",
   "pygments_lexer": "ipython3",
   "version": "3.9.7"
  }
 },
 "nbformat": 4,
 "nbformat_minor": 5
}
