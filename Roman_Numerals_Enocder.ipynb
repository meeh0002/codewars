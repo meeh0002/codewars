{
 "cells": [
  {
   "cell_type": "code",
   "execution_count": null,
   "id": "fbaee79c",
   "metadata": {},
   "outputs": [],
   "source": [
    "'''\n",
    "Create a function taking a positive integer between 1 and 3999 (both included) as its parameter and returning a string containing the Roman Numeral representation of that integer.\n",
    "\n",
    "Modern Roman numerals are written by expressing each digit separately starting with the left most digit and skipping any digit with a value of zero. In Roman numerals 1990 is rendered: 1000=M, 900=CM, 90=XC; resulting in MCMXC. 2008 is written as 2000=MM, 8=VIII; or MMVIII. 1666 uses each Roman symbol in descending order: MDCLXVI.\n",
    "\n",
    "Example:\n",
    "\n",
    "solution(1000) # should return 'M'\n",
    "\n",
    "'''"
   ]
  },
  {
   "cell_type": "code",
   "execution_count": 11,
   "id": "6a5735ac",
   "metadata": {},
   "outputs": [],
   "source": [
    "def solution(n):\n",
    "    # TODO convert int to roman string\n",
    "    \n",
    "    roman_k = { 0:' ', \n",
    "                1:'M',\n",
    "                2:'MM',\n",
    "                3:'MMM',\n",
    "                4:'MMMM',\n",
    "                5:'MMMMM',\n",
    "                6:'MMMMMM',\n",
    "                7:'MMMMMMM',\n",
    "                8:'MMMMMMMM',\n",
    "                9:'MMMMMMMMM'\n",
    "              }\n",
    "    \n",
    "    roman_h\n",
    "\n",
    "    \n",
    "x = str(n)\n",
    "    \n",
    "    if n >999:\n",
    "        k = x[0]\n",
    "        h = x[1]\n",
    "        t = x[2]\n",
    "        d = x[3]\n",
    "    elif n <=999 and n >99:\n",
    "        h = x[1]\n",
    "        t = x[2]\n",
    "        d = x[3]\n",
    "    elif n <=99 and n>9:\n",
    "        t = x[2]\n",
    "        d = x[3]\n",
    "    else:\n",
    "        d = x[3]\n",
    "    \n",
    "    \n",
    "    #return"
   ]
  },
  {
   "cell_type": "code",
   "execution_count": 12,
   "id": "2f742a21",
   "metadata": {},
   "outputs": [],
   "source": [
    "num = 9876"
   ]
  },
  {
   "cell_type": "code",
   "execution_count": 20,
   "id": "502568bd",
   "metadata": {},
   "outputs": [
    {
     "ename": "AttributeError",
     "evalue": "'int' object has no attribute 'len'",
     "output_type": "error",
     "traceback": [
      "\u001b[1;31m---------------------------------------------------------------------------\u001b[0m",
      "\u001b[1;31mAttributeError\u001b[0m                            Traceback (most recent call last)",
      "\u001b[1;32m~\\AppData\\Local\\Temp/ipykernel_1496/2706432875.py\u001b[0m in \u001b[0;36m<module>\u001b[1;34m\u001b[0m\n\u001b[1;32m----> 1\u001b[1;33m \u001b[0mnum\u001b[0m\u001b[1;33m.\u001b[0m\u001b[0mlen\u001b[0m\u001b[1;33m(\u001b[0m\u001b[1;33m)\u001b[0m\u001b[1;33m\u001b[0m\u001b[1;33m\u001b[0m\u001b[0m\n\u001b[0m",
      "\u001b[1;31mAttributeError\u001b[0m: 'int' object has no attribute 'len'"
     ]
    }
   ],
   "source": [
    "num.len()"
   ]
  },
  {
   "cell_type": "code",
   "execution_count": 13,
   "id": "06297f10",
   "metadata": {},
   "outputs": [],
   "source": [
    "n = str(num)"
   ]
  },
  {
   "cell_type": "code",
   "execution_count": 22,
   "id": "4bb186a9",
   "metadata": {},
   "outputs": [
    {
     "ename": "AttributeError",
     "evalue": "'str' object has no attribute 'len'",
     "output_type": "error",
     "traceback": [
      "\u001b[1;31m---------------------------------------------------------------------------\u001b[0m",
      "\u001b[1;31mAttributeError\u001b[0m                            Traceback (most recent call last)",
      "\u001b[1;32m~\\AppData\\Local\\Temp/ipykernel_1496/456255821.py\u001b[0m in \u001b[0;36m<module>\u001b[1;34m\u001b[0m\n\u001b[1;32m----> 1\u001b[1;33m \u001b[0mn\u001b[0m\u001b[1;33m.\u001b[0m\u001b[0mlen\u001b[0m\u001b[1;33m\u001b[0m\u001b[1;33m\u001b[0m\u001b[0m\n\u001b[0m",
      "\u001b[1;31mAttributeError\u001b[0m: 'str' object has no attribute 'len'"
     ]
    }
   ],
   "source": [
    "n.len"
   ]
  },
  {
   "cell_type": "code",
   "execution_count": 14,
   "id": "b8b1387f",
   "metadata": {},
   "outputs": [],
   "source": [
    "    \n",
    "    k = n[0]\n",
    "    h = n[1]\n",
    "    t = n[2]\n",
    "    d = n[3]"
   ]
  },
  {
   "cell_type": "code",
   "execution_count": null,
   "id": "813dc1fe",
   "metadata": {},
   "outputs": [],
   "source": [
    "roman_k = { Two':2, \n",
    "              'Three':3, \n",
    "              'Four':4, \n",
    "              'Five':5, \n",
    "          \n",
    "          'Ace':14}"
   ]
  }
 ],
 "metadata": {
  "kernelspec": {
   "display_name": "Python 3 (ipykernel)",
   "language": "python",
   "name": "python3"
  },
  "language_info": {
   "codemirror_mode": {
    "name": "ipython",
    "version": 3
   },
   "file_extension": ".py",
   "mimetype": "text/x-python",
   "name": "python",
   "nbconvert_exporter": "python",
   "pygments_lexer": "ipython3",
   "version": "3.9.7"
  }
 },
 "nbformat": 4,
 "nbformat_minor": 5
}
